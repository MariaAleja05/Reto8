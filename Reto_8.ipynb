{
  "nbformat": 4,
  "nbformat_minor": 0,
  "metadata": {
    "colab": {
      "provenance": [],
      "collapsed_sections": [
        "OijzH0dRD_Ij",
        "kwIsFuPoEKwl",
        "NxLjEfSmEOeu",
        "zxfXqnZREQ26",
        "8TZfrkrzETPt",
        "u-088GESEVTz",
        "L1G-L4-IEXGq"
      ]
    },
    "kernelspec": {
      "name": "python3",
      "display_name": "Python 3"
    },
    "language_info": {
      "name": "python"
    }
  },
  "cells": [
    {
      "cell_type": "markdown",
      "source": [
        "##**Punto 1**"
      ],
      "metadata": {
        "id": "OijzH0dRD_Ij"
      }
    },
    {
      "cell_type": "markdown",
      "source": [
        "**Enunciado:** Imprimir un listado con los números del 1 al 100 cada uno con su respectivo cuadrado."
      ],
      "metadata": {
        "id": "W89MpdwrEB0b"
      }
    },
    {
      "cell_type": "code",
      "execution_count": null,
      "metadata": {
        "colab": {
          "base_uri": "https://localhost:8080/"
        },
        "id": "MQjjRGgqAvay",
        "outputId": "3bf51e3f-f8d5-4d07-a28e-0a27d6ee4b63"
      },
      "outputs": [
        {
          "output_type": "stream",
          "name": "stdout",
          "text": [
            "[1, 4, 9, 16, 25, 36, 49, 64, 81, 100, 121, 144, 169, 196, 225, 256, 289, 324, 361, 400, 441, 484, 529, 576, 625, 676, 729, 784, 841, 900, 961, 1024, 1089, 1156, 1225, 1296, 1369, 1444, 1521, 1600, 1681, 1764, 1849, 1936, 2025, 2116, 2209, 2304, 2401, 2500, 2601, 2704, 2809, 2916, 3025, 3136, 3249, 3364, 3481, 3600, 3721, 3844, 3969, 4096, 4225, 4356, 4489, 4624, 4761, 4900, 5041, 5184, 5329, 5476, 5625, 5776, 5929, 6084, 6241, 6400, 6561, 6724, 6889, 7056, 7225, 7396, 7569, 7744, 7921, 8100, 8281, 8464, 8649, 8836, 9025, 9216, 9409, 9604, 9801, 10000]\n"
          ]
        }
      ],
      "source": [
        "cuadrado=1\n",
        "Lista=[]\n",
        "\n",
        "for i in range (1,101):\n",
        "  cuadrado = i**2\n",
        "  Lista.append(cuadrado)\n",
        "\n",
        "print(Lista)"
      ]
    },
    {
      "cell_type": "markdown",
      "source": [
        "##**Punto 2**"
      ],
      "metadata": {
        "id": "kwIsFuPoEKwl"
      }
    },
    {
      "cell_type": "markdown",
      "source": [
        "**Enunciado:** Imprimir un listado con los números impares desde 1 hasta 999 y seguidamente otro listado con los números pares desde 2 hasta 1000."
      ],
      "metadata": {
        "id": "BRk8jWxMEEhV"
      }
    },
    {
      "cell_type": "code",
      "source": [
        "Lista_impares=[]\n",
        "Lista_pares=[]\n",
        "\n",
        "for i in range (1,1001):\n",
        "  if i%2==0:\n",
        "    Lista_pares.append(i)\n",
        "  else:\n",
        "    Lista_impares.append(i)\n",
        "\n",
        "print(\"Los números impares: \" + str(Lista_impares))\n",
        "print(\"Los números pares: \" + str(Lista_pares))"
      ],
      "metadata": {
        "colab": {
          "base_uri": "https://localhost:8080/"
        },
        "id": "G2DHLKOpEN5y",
        "outputId": "38ca4801-f512-446c-bbd0-e13bce6960c5"
      },
      "execution_count": null,
      "outputs": [
        {
          "output_type": "stream",
          "name": "stdout",
          "text": [
            "Los números impares: [1, 3, 5, 7, 9, 11, 13, 15, 17, 19, 21, 23, 25, 27, 29, 31, 33, 35, 37, 39, 41, 43, 45, 47, 49, 51, 53, 55, 57, 59, 61, 63, 65, 67, 69, 71, 73, 75, 77, 79, 81, 83, 85, 87, 89, 91, 93, 95, 97, 99, 101, 103, 105, 107, 109, 111, 113, 115, 117, 119, 121, 123, 125, 127, 129, 131, 133, 135, 137, 139, 141, 143, 145, 147, 149, 151, 153, 155, 157, 159, 161, 163, 165, 167, 169, 171, 173, 175, 177, 179, 181, 183, 185, 187, 189, 191, 193, 195, 197, 199, 201, 203, 205, 207, 209, 211, 213, 215, 217, 219, 221, 223, 225, 227, 229, 231, 233, 235, 237, 239, 241, 243, 245, 247, 249, 251, 253, 255, 257, 259, 261, 263, 265, 267, 269, 271, 273, 275, 277, 279, 281, 283, 285, 287, 289, 291, 293, 295, 297, 299, 301, 303, 305, 307, 309, 311, 313, 315, 317, 319, 321, 323, 325, 327, 329, 331, 333, 335, 337, 339, 341, 343, 345, 347, 349, 351, 353, 355, 357, 359, 361, 363, 365, 367, 369, 371, 373, 375, 377, 379, 381, 383, 385, 387, 389, 391, 393, 395, 397, 399, 401, 403, 405, 407, 409, 411, 413, 415, 417, 419, 421, 423, 425, 427, 429, 431, 433, 435, 437, 439, 441, 443, 445, 447, 449, 451, 453, 455, 457, 459, 461, 463, 465, 467, 469, 471, 473, 475, 477, 479, 481, 483, 485, 487, 489, 491, 493, 495, 497, 499, 501, 503, 505, 507, 509, 511, 513, 515, 517, 519, 521, 523, 525, 527, 529, 531, 533, 535, 537, 539, 541, 543, 545, 547, 549, 551, 553, 555, 557, 559, 561, 563, 565, 567, 569, 571, 573, 575, 577, 579, 581, 583, 585, 587, 589, 591, 593, 595, 597, 599, 601, 603, 605, 607, 609, 611, 613, 615, 617, 619, 621, 623, 625, 627, 629, 631, 633, 635, 637, 639, 641, 643, 645, 647, 649, 651, 653, 655, 657, 659, 661, 663, 665, 667, 669, 671, 673, 675, 677, 679, 681, 683, 685, 687, 689, 691, 693, 695, 697, 699, 701, 703, 705, 707, 709, 711, 713, 715, 717, 719, 721, 723, 725, 727, 729, 731, 733, 735, 737, 739, 741, 743, 745, 747, 749, 751, 753, 755, 757, 759, 761, 763, 765, 767, 769, 771, 773, 775, 777, 779, 781, 783, 785, 787, 789, 791, 793, 795, 797, 799, 801, 803, 805, 807, 809, 811, 813, 815, 817, 819, 821, 823, 825, 827, 829, 831, 833, 835, 837, 839, 841, 843, 845, 847, 849, 851, 853, 855, 857, 859, 861, 863, 865, 867, 869, 871, 873, 875, 877, 879, 881, 883, 885, 887, 889, 891, 893, 895, 897, 899, 901, 903, 905, 907, 909, 911, 913, 915, 917, 919, 921, 923, 925, 927, 929, 931, 933, 935, 937, 939, 941, 943, 945, 947, 949, 951, 953, 955, 957, 959, 961, 963, 965, 967, 969, 971, 973, 975, 977, 979, 981, 983, 985, 987, 989, 991, 993, 995, 997, 999]\n",
            "Los números pares: [2, 4, 6, 8, 10, 12, 14, 16, 18, 20, 22, 24, 26, 28, 30, 32, 34, 36, 38, 40, 42, 44, 46, 48, 50, 52, 54, 56, 58, 60, 62, 64, 66, 68, 70, 72, 74, 76, 78, 80, 82, 84, 86, 88, 90, 92, 94, 96, 98, 100, 102, 104, 106, 108, 110, 112, 114, 116, 118, 120, 122, 124, 126, 128, 130, 132, 134, 136, 138, 140, 142, 144, 146, 148, 150, 152, 154, 156, 158, 160, 162, 164, 166, 168, 170, 172, 174, 176, 178, 180, 182, 184, 186, 188, 190, 192, 194, 196, 198, 200, 202, 204, 206, 208, 210, 212, 214, 216, 218, 220, 222, 224, 226, 228, 230, 232, 234, 236, 238, 240, 242, 244, 246, 248, 250, 252, 254, 256, 258, 260, 262, 264, 266, 268, 270, 272, 274, 276, 278, 280, 282, 284, 286, 288, 290, 292, 294, 296, 298, 300, 302, 304, 306, 308, 310, 312, 314, 316, 318, 320, 322, 324, 326, 328, 330, 332, 334, 336, 338, 340, 342, 344, 346, 348, 350, 352, 354, 356, 358, 360, 362, 364, 366, 368, 370, 372, 374, 376, 378, 380, 382, 384, 386, 388, 390, 392, 394, 396, 398, 400, 402, 404, 406, 408, 410, 412, 414, 416, 418, 420, 422, 424, 426, 428, 430, 432, 434, 436, 438, 440, 442, 444, 446, 448, 450, 452, 454, 456, 458, 460, 462, 464, 466, 468, 470, 472, 474, 476, 478, 480, 482, 484, 486, 488, 490, 492, 494, 496, 498, 500, 502, 504, 506, 508, 510, 512, 514, 516, 518, 520, 522, 524, 526, 528, 530, 532, 534, 536, 538, 540, 542, 544, 546, 548, 550, 552, 554, 556, 558, 560, 562, 564, 566, 568, 570, 572, 574, 576, 578, 580, 582, 584, 586, 588, 590, 592, 594, 596, 598, 600, 602, 604, 606, 608, 610, 612, 614, 616, 618, 620, 622, 624, 626, 628, 630, 632, 634, 636, 638, 640, 642, 644, 646, 648, 650, 652, 654, 656, 658, 660, 662, 664, 666, 668, 670, 672, 674, 676, 678, 680, 682, 684, 686, 688, 690, 692, 694, 696, 698, 700, 702, 704, 706, 708, 710, 712, 714, 716, 718, 720, 722, 724, 726, 728, 730, 732, 734, 736, 738, 740, 742, 744, 746, 748, 750, 752, 754, 756, 758, 760, 762, 764, 766, 768, 770, 772, 774, 776, 778, 780, 782, 784, 786, 788, 790, 792, 794, 796, 798, 800, 802, 804, 806, 808, 810, 812, 814, 816, 818, 820, 822, 824, 826, 828, 830, 832, 834, 836, 838, 840, 842, 844, 846, 848, 850, 852, 854, 856, 858, 860, 862, 864, 866, 868, 870, 872, 874, 876, 878, 880, 882, 884, 886, 888, 890, 892, 894, 896, 898, 900, 902, 904, 906, 908, 910, 912, 914, 916, 918, 920, 922, 924, 926, 928, 930, 932, 934, 936, 938, 940, 942, 944, 946, 948, 950, 952, 954, 956, 958, 960, 962, 964, 966, 968, 970, 972, 974, 976, 978, 980, 982, 984, 986, 988, 990, 992, 994, 996, 998, 1000]\n"
          ]
        }
      ]
    },
    {
      "cell_type": "markdown",
      "source": [
        "##**Punto 3**"
      ],
      "metadata": {
        "id": "NxLjEfSmEOeu"
      }
    },
    {
      "cell_type": "markdown",
      "source": [
        "**Enunciado:** Imprimir los números pares en forma descendente hasta 2 que son menores o iguales a un número natural n ≥ 2 dado"
      ],
      "metadata": {
        "id": "UHOe5FmxEFXO"
      }
    },
    {
      "cell_type": "code",
      "source": [
        "n = int(input(\"Ingrese un número mayor o igual a 2: \"))\n",
        "lista = []\n",
        "\n",
        "for i in range(n, 1, -1):\n",
        "  if i%2==0:\n",
        "    lista.append(i)\n",
        "\n",
        "print(\"Los números pares desde n hasta 2 son: \" + str(lista))"
      ],
      "metadata": {
        "colab": {
          "base_uri": "https://localhost:8080/"
        },
        "id": "dgnxx0IdEQgP",
        "outputId": "6b2d69f5-4b58-42d0-c10c-7f176f22a9ed"
      },
      "execution_count": null,
      "outputs": [
        {
          "output_type": "stream",
          "name": "stdout",
          "text": [
            "Ingrese un número mayor o igual a 2: 54\n",
            "Los números pares desde n hasta 2 son: [54, 52, 50, 48, 46, 44, 42, 40, 38, 36, 34, 32, 30, 28, 26, 24, 22, 20, 18, 16, 14, 12, 10, 8, 6, 4, 2]\n"
          ]
        }
      ]
    },
    {
      "cell_type": "markdown",
      "source": [
        "##**Punto 4**"
      ],
      "metadata": {
        "id": "zxfXqnZREQ26"
      }
    },
    {
      "cell_type": "markdown",
      "source": [
        "**Enunciado:** Imprimir los números de 1 hasta un número natural n dado, cada uno con su respectivo factorial"
      ],
      "metadata": {
        "id": "XWfQQ4GfEJ9Z"
      }
    },
    {
      "cell_type": "code",
      "source": [
        "import math as m\n",
        "n = int(input(\"Ingrese un número natural: \"))\n",
        "factorial = 0\n",
        "\n",
        "for i in range(1, n+1, +1):\n",
        "  factorial = m.factorial(i)\n",
        "  print(\"El factorial de \" + str(i) + \" es: \" + str(factorial))"
      ],
      "metadata": {
        "id": "Zv0t5o07ESq2",
        "colab": {
          "base_uri": "https://localhost:8080/"
        },
        "outputId": "cb780bae-dce6-4d47-f4e5-ae5b4dcbf1da"
      },
      "execution_count": null,
      "outputs": [
        {
          "output_type": "stream",
          "name": "stdout",
          "text": [
            "Ingrese un número natural: 8\n",
            "El factorial de 1 es: 1\n",
            "El factorial de 2 es: 2\n",
            "El factorial de 3 es: 6\n",
            "El factorial de 4 es: 24\n",
            "El factorial de 5 es: 120\n",
            "El factorial de 6 es: 720\n",
            "El factorial de 7 es: 5040\n",
            "El factorial de 8 es: 40320\n"
          ]
        }
      ]
    },
    {
      "cell_type": "markdown",
      "source": [
        "##**Punto 5**"
      ],
      "metadata": {
        "id": "8TZfrkrzETPt"
      }
    },
    {
      "cell_type": "markdown",
      "source": [
        "**Enunciado:** Calcular el valor de 2 elevado a la potencia n usando ciclos for."
      ],
      "metadata": {
        "id": "gxJTEDgUEJr3"
      }
    },
    {
      "cell_type": "code",
      "source": [
        "n = int(input(\"Ingrese el número de la potencia: \"))\n",
        "potencia = 2\n",
        "\n",
        "for i in range(n-1):\n",
        "  potencia *= 2\n",
        "\n",
        "print(\"El resultado es: \" + str(potencia))"
      ],
      "metadata": {
        "id": "ShNOdIXCEU6C",
        "colab": {
          "base_uri": "https://localhost:8080/"
        },
        "outputId": "c56a6795-2735-48fa-e40d-67b4726de2d8"
      },
      "execution_count": null,
      "outputs": [
        {
          "output_type": "stream",
          "name": "stdout",
          "text": [
            "Ingrese el número de la potencia: 7\n",
            "El resultado es: 128\n"
          ]
        }
      ]
    },
    {
      "cell_type": "markdown",
      "source": [
        "##**Punto 6**"
      ],
      "metadata": {
        "id": "u-088GESEVTz"
      }
    },
    {
      "cell_type": "markdown",
      "source": [
        "**Enunciado:** Leer un número natural n, leer otro dato de tipo real x y calcular x^n usando ciclos for."
      ],
      "metadata": {
        "id": "ad1Eo7ZYEJb-"
      }
    },
    {
      "cell_type": "code",
      "source": [
        "n = int(input(\"Ingrese un número natural: \"))\n",
        "x = float(input(\"Ingrese un número real: \"))\n",
        "operacion = 1\n",
        "\n",
        "for i in range(n-1):\n",
        "  operacion *= x\n",
        "\n",
        "print(\"El resultado es: \" + str(operacion))"
      ],
      "metadata": {
        "id": "w2eQAWyDEW0b",
        "colab": {
          "base_uri": "https://localhost:8080/"
        },
        "outputId": "fd9d4d2f-6fed-4613-e5af-f96cc08d3482"
      },
      "execution_count": null,
      "outputs": [
        {
          "output_type": "stream",
          "name": "stdout",
          "text": [
            "Ingrese un número natural: 0\n",
            "Ingrese un número real: 5\n",
            "El resultado es: 1\n"
          ]
        }
      ]
    },
    {
      "cell_type": "markdown",
      "source": [
        "##**Punto 7**"
      ],
      "metadata": {
        "id": "L1G-L4-IEXGq"
      }
    },
    {
      "cell_type": "markdown",
      "source": [
        "**Enunciado:** Diseñe un programa que muestre las tablas de multiplicar del 1 al 9."
      ],
      "metadata": {
        "id": "FG_YuaCtEJIJ"
      }
    },
    {
      "cell_type": "code",
      "source": [
        "mult=1\n",
        "\n",
        "for i in range(1, 10):\n",
        "  print(\"------------------------------------------------\")\n",
        "  print(\"Tabla de multiplicar del \" + str(i))\n",
        "  for j in range (1, 11):\n",
        "    mult=i*j\n",
        "    print(str(i) + \" x \" + str(j) + \" = \" + str(mult))"
      ],
      "metadata": {
        "id": "vU942zY0EYXM",
        "colab": {
          "base_uri": "https://localhost:8080/"
        },
        "outputId": "1328c26a-8c94-437c-e546-92699533e3ac"
      },
      "execution_count": null,
      "outputs": [
        {
          "output_type": "stream",
          "name": "stdout",
          "text": [
            "------------------------------------------------\n",
            "Tabla de multiplicar del 1\n",
            "1 x 1 = 1\n",
            "1 x 2 = 2\n",
            "1 x 3 = 3\n",
            "1 x 4 = 4\n",
            "1 x 5 = 5\n",
            "1 x 6 = 6\n",
            "1 x 7 = 7\n",
            "1 x 8 = 8\n",
            "1 x 9 = 9\n",
            "1 x 10 = 10\n",
            "------------------------------------------------\n",
            "Tabla de multiplicar del 2\n",
            "2 x 1 = 2\n",
            "2 x 2 = 4\n",
            "2 x 3 = 6\n",
            "2 x 4 = 8\n",
            "2 x 5 = 10\n",
            "2 x 6 = 12\n",
            "2 x 7 = 14\n",
            "2 x 8 = 16\n",
            "2 x 9 = 18\n",
            "2 x 10 = 20\n",
            "------------------------------------------------\n",
            "Tabla de multiplicar del 3\n",
            "3 x 1 = 3\n",
            "3 x 2 = 6\n",
            "3 x 3 = 9\n",
            "3 x 4 = 12\n",
            "3 x 5 = 15\n",
            "3 x 6 = 18\n",
            "3 x 7 = 21\n",
            "3 x 8 = 24\n",
            "3 x 9 = 27\n",
            "3 x 10 = 30\n",
            "------------------------------------------------\n",
            "Tabla de multiplicar del 4\n",
            "4 x 1 = 4\n",
            "4 x 2 = 8\n",
            "4 x 3 = 12\n",
            "4 x 4 = 16\n",
            "4 x 5 = 20\n",
            "4 x 6 = 24\n",
            "4 x 7 = 28\n",
            "4 x 8 = 32\n",
            "4 x 9 = 36\n",
            "4 x 10 = 40\n",
            "------------------------------------------------\n",
            "Tabla de multiplicar del 5\n",
            "5 x 1 = 5\n",
            "5 x 2 = 10\n",
            "5 x 3 = 15\n",
            "5 x 4 = 20\n",
            "5 x 5 = 25\n",
            "5 x 6 = 30\n",
            "5 x 7 = 35\n",
            "5 x 8 = 40\n",
            "5 x 9 = 45\n",
            "5 x 10 = 50\n",
            "------------------------------------------------\n",
            "Tabla de multiplicar del 6\n",
            "6 x 1 = 6\n",
            "6 x 2 = 12\n",
            "6 x 3 = 18\n",
            "6 x 4 = 24\n",
            "6 x 5 = 30\n",
            "6 x 6 = 36\n",
            "6 x 7 = 42\n",
            "6 x 8 = 48\n",
            "6 x 9 = 54\n",
            "6 x 10 = 60\n",
            "------------------------------------------------\n",
            "Tabla de multiplicar del 7\n",
            "7 x 1 = 7\n",
            "7 x 2 = 14\n",
            "7 x 3 = 21\n",
            "7 x 4 = 28\n",
            "7 x 5 = 35\n",
            "7 x 6 = 42\n",
            "7 x 7 = 49\n",
            "7 x 8 = 56\n",
            "7 x 9 = 63\n",
            "7 x 10 = 70\n",
            "------------------------------------------------\n",
            "Tabla de multiplicar del 8\n",
            "8 x 1 = 8\n",
            "8 x 2 = 16\n",
            "8 x 3 = 24\n",
            "8 x 4 = 32\n",
            "8 x 5 = 40\n",
            "8 x 6 = 48\n",
            "8 x 7 = 56\n",
            "8 x 8 = 64\n",
            "8 x 9 = 72\n",
            "8 x 10 = 80\n",
            "------------------------------------------------\n",
            "Tabla de multiplicar del 9\n",
            "9 x 1 = 9\n",
            "9 x 2 = 18\n",
            "9 x 3 = 27\n",
            "9 x 4 = 36\n",
            "9 x 5 = 45\n",
            "9 x 6 = 54\n",
            "9 x 7 = 63\n",
            "9 x 8 = 72\n",
            "9 x 9 = 81\n",
            "9 x 10 = 90\n"
          ]
        }
      ]
    },
    {
      "cell_type": "markdown",
      "source": [
        "##**Punto 8**"
      ],
      "metadata": {
        "id": "leZRlfQbEZFH"
      }
    },
    {
      "cell_type": "markdown",
      "source": [
        "**Enunciado:** Diseñar una función que permita calcular una aproximación de la función exponencial alrededor de 0 para cualquier valor x (real), utilizando los primeros n términos de la serie de Maclaurin. Nota: use math para traer la función exponencial y mostrar la diferencia entre el valor real y la aproximación."
      ],
      "metadata": {
        "id": "AsBVIJw9EIzd"
      }
    },
    {
      "cell_type": "code",
      "source": [
        "import math\n",
        "from math import exp, factorial\n",
        "\n",
        "def AproxFuncionExponencial(x: float, n:int) -> float:\n",
        "  suma: float = 0\n",
        "  for i in range(0, n+1):\n",
        "    y = ((x**i)/factorial(i))\n",
        "    suma += y\n",
        "  return suma\n",
        "\n",
        "if __name__ == \"__main__\":\n",
        "  x = float(input(\"Ingrese un número real: \"))\n",
        "  n: int = 1\n",
        "  rta1: float = AproxFuncionExponencial(x, n)\n",
        "  aprox: float = AproxFuncionExponencial(x, n)\n",
        "  valorReal: float = exp(x)\n",
        "\n",
        "  while ((abs(valorReal - aprox)/valorReal * 100)>0.1):\n",
        "    aprox: float = AproxFuncionExponencial(x, n)\n",
        "    n += 1\n",
        "  print(\"El valor de n para tener un error menor a 0.1: \" + str(n))\n",
        "\n",
        "  print(\"La aproximación es: \" + str(aprox))\n",
        "  print(\"El valor real es: \" + str(valorReal))"
      ],
      "metadata": {
        "colab": {
          "base_uri": "https://localhost:8080/"
        },
        "id": "u5hq-apjjud4",
        "outputId": "9101d54a-a6d9-47f9-f732-1de137fa3578"
      },
      "execution_count": null,
      "outputs": [
        {
          "output_type": "stream",
          "name": "stdout",
          "text": [
            "Ingrese un número real: 5\n",
            "El valor de n para tener un error menor a 0.1: 14\n",
            "La aproximación es: 148.3095682047505\n",
            "El valor real es: 148.4131591025766\n"
          ]
        }
      ]
    },
    {
      "cell_type": "markdown",
      "source": [
        "##**Punto 9**"
      ],
      "metadata": {
        "id": "8d6Ne3JcEaxt"
      }
    },
    {
      "cell_type": "markdown",
      "source": [
        "**Enunciado:** Diseñar una función que permita calcular una aproximación de la función seno alrededor de 0 para cualquier valor x (real), utilizando los primeros n términos de la serie de Maclaurin. Nota: use math para traer la función seno y mostrar la diferencia entre el valor real y la aproximación."
      ],
      "metadata": {
        "id": "noE0TG3UEIcn"
      }
    },
    {
      "cell_type": "code",
      "source": [
        "import math\n",
        "from math import sin, factorial\n",
        "\n",
        "def AproxSeno(x: float, n:int) -> float:\n",
        "  suma: float = 0\n",
        "  for i in range(0, n+1):\n",
        "    y = ((-1)**i)*((x**((2*i)+1))/factorial((2*i)+1))\n",
        "    suma += y\n",
        "  return suma\n",
        "\n",
        "if __name__ == \"__main__\":\n",
        "  x = float(input(\"Ingrese un número real: \"))\n",
        "  n: int = 1\n",
        "  aprox: float = AproxSeno(x, n)\n",
        "  valorReal: float = sin(x)\n",
        "\n",
        "  while ((abs(valorReal - aprox)/valorReal * 100)>0.1):\n",
        "    aprox: float = AproxSeno(x, n)\n",
        "    n += 1\n",
        "  print(\"El valor de n para tener un error menor a 0.1: \" + str(n))\n",
        "\n",
        "  print(\"La aproximación es: \" + str(aprox))\n",
        "  print(\"El valor real es: \" + str(valorReal))"
      ],
      "metadata": {
        "id": "SUfvzHjnEcBE",
        "colab": {
          "base_uri": "https://localhost:8080/"
        },
        "outputId": "f2db091f-353e-4613-b4e7-58b33f158373"
      },
      "execution_count": 6,
      "outputs": [
        {
          "output_type": "stream",
          "name": "stdout",
          "text": [
            "Ingrese un número real: 8\n",
            "El valor de n para tener un error menor a 0.1: 13\n",
            "La aproximación es: 0.9895639284428125\n",
            "El valor real es: 0.9893582466233818\n"
          ]
        }
      ]
    },
    {
      "cell_type": "markdown",
      "source": [
        "##**Punto 10**"
      ],
      "metadata": {
        "id": "5_9DqLO3Ecan"
      }
    },
    {
      "cell_type": "markdown",
      "source": [
        "**Enunciado:** Diseñar una función que permita calcular una aproximación de la función arcotangente alrededor de 0 para cualquier valor x en el rango [-1, 1], utilizando los primeros n términos de la serie de Maclaurin. Nota: use math para traer la función arctan y mostrar la diferencia entre el valor real y la aproximación."
      ],
      "metadata": {
        "id": "DIX2L0gFEHfs"
      }
    },
    {
      "cell_type": "code",
      "source": [
        "import numpy\n",
        "from numpy import arctan\n",
        "\n",
        "def AproxArctan(x: float, n:int) -> float:\n",
        "  suma: float = 0\n",
        "  for i in range(-1, 1):\n",
        "    y = ((-1)**i)*(((x**((2*i)+1))/((2*i)+1)))\n",
        "    suma += y\n",
        "  return suma\n",
        "\n",
        "if __name__ == \"__main__\":\n",
        "  x = float(input(\"Ingrese un número real: \"))\n",
        "  n: int = 1\n",
        "  aprox: float = AproxArctan(x, n)\n",
        "  valorReal: float = arctan(x)\n",
        "\n",
        "  while ((abs(valorReal - aprox)/valorReal * 100)<0.1):\n",
        "    aprox: float = AproxArctan(x, n)\n",
        "    n += 1\n",
        "  print(\"El valor de n para tener un error menor a 0.1: \" + str(n))\n",
        "\n",
        "  print(\"La aproximación es: \" + str(aprox))\n",
        "  print(\"El valor real es: \" + str(valorReal))"
      ],
      "metadata": {
        "id": "_TUHTVZUEdpG",
        "colab": {
          "base_uri": "https://localhost:8080/"
        },
        "outputId": "ff240464-100f-4f65-edc7-c4d2aae9f060"
      },
      "execution_count": null,
      "outputs": [
        {
          "output_type": "stream",
          "name": "stdout",
          "text": [
            "Ingrese un número real: 0.2\n",
            "El valor de n para tener un error menor a 0.1: 1\n",
            "La aproximación es: 5.2\n",
            "El valor real es: 0.19739555984988078\n"
          ]
        }
      ]
    }
  ]
}